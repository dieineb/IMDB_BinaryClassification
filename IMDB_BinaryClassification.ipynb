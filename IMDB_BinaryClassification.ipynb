{
 "cells": [
  {
   "cell_type": "markdown",
   "metadata": {},
   "source": [
    "@Dieine Bernieri Schiavon\n",
    "\n",
    "UFCSPA - Universidade Federal de Ciências da Saúde de Porto Alegre\n",
    "\n",
    "Informática Biomédica\n",
    "\n",
    "dieineb@ufcspa.edu.br\n",
    "\n",
    "https://github.com/dieineb"
   ]
  },
  {
   "cell_type": "markdown",
   "metadata": {
    "id": "rx0nOjeGE1nB"
   },
   "source": [
    "# Classificando resenhas de filmes: exemplo de uma classificação binária <p>\n",
    "A classificação de duas classes, ou classificação binária, é um dos tipos mais comuns de\n",
    "problemas de aprendizado de máquina. Neste exemplo, você aprenderá a classificar as resenhas de filmes como\n",
    "positivo ou negativo, com base no conteúdo de textos."
   ]
  },
  {
   "cell_type": "markdown",
   "metadata": {
    "id": "TN_Fm3SsFLaF"
   },
   "source": [
    "# O conjunto de dados do IMDB<p>\n",
    "Você trabalhará com o conjunto de dados IMDB: um conjunto de 50.000 avaliações altamente polarizadas do\n",
    "Banco de dados de filmes da Internet. Eles são divididos em 25.000 avaliações para treinamento e 25.000\n",
    "comentários para teste, cada conjunto composto por 50% de comentários negativos e 50% positivos.\n",
    " "
   ]
  },
  {
   "cell_type": "markdown",
   "metadata": {
    "id": "7d2oo2LuEcUo"
   },
   "source": [
    "# Baixando o dataset IMDB"
   ]
  },
  {
   "cell_type": "code",
   "execution_count": 9,
   "metadata": {
    "id": "PiWy18ddYvYy"
   },
   "outputs": [],
   "source": [
    "import numpy as np\n",
    "\n",
    "from keras.preprocessing.sequence import _remove_long_seq\n",
    "from keras.utils.data_utils import get_file\n",
    "\n",
    "from tensorflow.python.platform import tf_logging as logging\n",
    "from tensorflow.python.util.tf_export import keras_export\n",
    "\n",
    "import tensorflow as tf\n",
    "from tensorflow import keras\n"
   ]
  },
  {
   "cell_type": "code",
   "execution_count": 12,
   "metadata": {
    "colab": {
     "base_uri": "https://localhost:8080/"
    },
    "id": "BXplYhbDZFnI",
    "outputId": "f07245d6-35d1-4e4f-83ae-5fca373ebe26"
   },
   "outputs": [
    {
     "name": "stdout",
     "output_type": "stream",
     "text": [
      "Downloading data from https://storage.googleapis.com/tensorflow/tf-keras-datasets/imdb.npz\n",
      "17465344/17464789 [==============================] - 0s 0us/step\n",
      "17473536/17464789 [==============================] - 0s 0us/step\n"
     ]
    }
   ],
   "source": [
    "imdb = keras.datasets.imdb\n",
    "(train_data, train_labels), (test_data, test_labels) = imdb.load_data(num_words=10000)\n",
    "data_url = \"http://ai.stanford.edu/~amaas/data/sentiment/aclImdb_v1.tar.gz\""
   ]
  },
  {
   "cell_type": "markdown",
   "metadata": {
    "id": "6Ks1jxc2Fat5"
   },
   "source": [
    "O argumento num_words=10000 significa que você manterá apenas as 10.000 palavras mais frequentes nos dados de treinamento. Palavras raras serão descartadas. Isso permite\n",
    "trabalharmos com dados vetoriais de tamanho gerenciável. Se não definissemos esse limite, estaríamos trabalhando com 88.585 palavras únicas nos dados de treinamento, o que é desnecessariamente grande. Muitos\n",
    "dessas palavras ocorrem apenas em uma única amostra e, portanto, não podem ser usadas de forma significativa para\n",
    "classificação.\n",
    "  As variáveis train_data e test_data são listas de revisões; cada revisão é uma lista de\n",
    "índices de palavras (codificando uma sequência de palavras). train_labels e test_labels são\n",
    "listas de 0s e 1s, onde 0 significa negativo e 1 significa positivo:"
   ]
  },
  {
   "cell_type": "code",
   "execution_count": 13,
   "metadata": {
    "colab": {
     "base_uri": "https://localhost:8080/"
    },
    "id": "cySry5bgE0fi",
    "outputId": "b7e69276-87ab-43df-ecd4-009a5326dcd5"
   },
   "outputs": [
    {
     "data": {
      "text/plain": [
       "[1,\n",
       " 14,\n",
       " 22,\n",
       " 16,\n",
       " 43,\n",
       " 530,\n",
       " 973,\n",
       " 1622,\n",
       " 1385,\n",
       " 65,\n",
       " 458,\n",
       " 4468,\n",
       " 66,\n",
       " 3941,\n",
       " 4,\n",
       " 173,\n",
       " 36,\n",
       " 256,\n",
       " 5,\n",
       " 25,\n",
       " 100,\n",
       " 43,\n",
       " 838,\n",
       " 112,\n",
       " 50,\n",
       " 670,\n",
       " 2,\n",
       " 9,\n",
       " 35,\n",
       " 480,\n",
       " 284,\n",
       " 5,\n",
       " 150,\n",
       " 4,\n",
       " 172,\n",
       " 112,\n",
       " 167,\n",
       " 2,\n",
       " 336,\n",
       " 385,\n",
       " 39,\n",
       " 4,\n",
       " 172,\n",
       " 4536,\n",
       " 1111,\n",
       " 17,\n",
       " 546,\n",
       " 38,\n",
       " 13,\n",
       " 447,\n",
       " 4,\n",
       " 192,\n",
       " 50,\n",
       " 16,\n",
       " 6,\n",
       " 147,\n",
       " 2025,\n",
       " 19,\n",
       " 14,\n",
       " 22,\n",
       " 4,\n",
       " 1920,\n",
       " 4613,\n",
       " 469,\n",
       " 4,\n",
       " 22,\n",
       " 71,\n",
       " 87,\n",
       " 12,\n",
       " 16,\n",
       " 43,\n",
       " 530,\n",
       " 38,\n",
       " 76,\n",
       " 15,\n",
       " 13,\n",
       " 1247,\n",
       " 4,\n",
       " 22,\n",
       " 17,\n",
       " 515,\n",
       " 17,\n",
       " 12,\n",
       " 16,\n",
       " 626,\n",
       " 18,\n",
       " 2,\n",
       " 5,\n",
       " 62,\n",
       " 386,\n",
       " 12,\n",
       " 8,\n",
       " 316,\n",
       " 8,\n",
       " 106,\n",
       " 5,\n",
       " 4,\n",
       " 2223,\n",
       " 5244,\n",
       " 16,\n",
       " 480,\n",
       " 66,\n",
       " 3785,\n",
       " 33,\n",
       " 4,\n",
       " 130,\n",
       " 12,\n",
       " 16,\n",
       " 38,\n",
       " 619,\n",
       " 5,\n",
       " 25,\n",
       " 124,\n",
       " 51,\n",
       " 36,\n",
       " 135,\n",
       " 48,\n",
       " 25,\n",
       " 1415,\n",
       " 33,\n",
       " 6,\n",
       " 22,\n",
       " 12,\n",
       " 215,\n",
       " 28,\n",
       " 77,\n",
       " 52,\n",
       " 5,\n",
       " 14,\n",
       " 407,\n",
       " 16,\n",
       " 82,\n",
       " 2,\n",
       " 8,\n",
       " 4,\n",
       " 107,\n",
       " 117,\n",
       " 5952,\n",
       " 15,\n",
       " 256,\n",
       " 4,\n",
       " 2,\n",
       " 7,\n",
       " 3766,\n",
       " 5,\n",
       " 723,\n",
       " 36,\n",
       " 71,\n",
       " 43,\n",
       " 530,\n",
       " 476,\n",
       " 26,\n",
       " 400,\n",
       " 317,\n",
       " 46,\n",
       " 7,\n",
       " 4,\n",
       " 2,\n",
       " 1029,\n",
       " 13,\n",
       " 104,\n",
       " 88,\n",
       " 4,\n",
       " 381,\n",
       " 15,\n",
       " 297,\n",
       " 98,\n",
       " 32,\n",
       " 2071,\n",
       " 56,\n",
       " 26,\n",
       " 141,\n",
       " 6,\n",
       " 194,\n",
       " 7486,\n",
       " 18,\n",
       " 4,\n",
       " 226,\n",
       " 22,\n",
       " 21,\n",
       " 134,\n",
       " 476,\n",
       " 26,\n",
       " 480,\n",
       " 5,\n",
       " 144,\n",
       " 30,\n",
       " 5535,\n",
       " 18,\n",
       " 51,\n",
       " 36,\n",
       " 28,\n",
       " 224,\n",
       " 92,\n",
       " 25,\n",
       " 104,\n",
       " 4,\n",
       " 226,\n",
       " 65,\n",
       " 16,\n",
       " 38,\n",
       " 1334,\n",
       " 88,\n",
       " 12,\n",
       " 16,\n",
       " 283,\n",
       " 5,\n",
       " 16,\n",
       " 4472,\n",
       " 113,\n",
       " 103,\n",
       " 32,\n",
       " 15,\n",
       " 16,\n",
       " 5345,\n",
       " 19,\n",
       " 178,\n",
       " 32]"
      ]
     },
     "execution_count": 13,
     "metadata": {},
     "output_type": "execute_result"
    }
   ],
   "source": [
    "train_data[0]"
   ]
  },
  {
   "cell_type": "code",
   "execution_count": 14,
   "metadata": {
    "colab": {
     "base_uri": "https://localhost:8080/"
    },
    "id": "sNkGqtQYFgfS",
    "outputId": "a33b95ba-fce7-4a3b-e42c-0e1b8d58749d"
   },
   "outputs": [
    {
     "data": {
      "text/plain": [
       "1"
      ]
     },
     "execution_count": 14,
     "metadata": {},
     "output_type": "execute_result"
    }
   ],
   "source": [
    "train_labels[0]"
   ]
  },
  {
   "cell_type": "markdown",
   "metadata": {
    "id": "h4Y0BdqXFvId"
   },
   "source": [
    "Porque estamos nos restringindo às 10.000 palavras mais frequentes, nenhum índice de palavra excederá 10.000:"
   ]
  },
  {
   "cell_type": "code",
   "execution_count": 15,
   "metadata": {
    "colab": {
     "base_uri": "https://localhost:8080/"
    },
    "id": "V9s7eBEOFwXd",
    "outputId": "b250860e-f5e7-4503-f15e-931106e9c594"
   },
   "outputs": [
    {
     "data": {
      "text/plain": [
       "9999"
      ]
     },
     "execution_count": 15,
     "metadata": {},
     "output_type": "execute_result"
    }
   ],
   "source": [
    "max([max(sequence) for sequence in train_data])"
   ]
  },
  {
   "cell_type": "markdown",
   "metadata": {
    "id": "JHJruYO_Lv6i"
   },
   "source": [
    "Decoding reviews back to text"
   ]
  },
  {
   "cell_type": "code",
   "execution_count": 16,
   "metadata": {
    "colab": {
     "base_uri": "https://localhost:8080/"
    },
    "id": "mHo8JV9MLieW",
    "outputId": "f94c1157-04c0-425a-b496-479b6f37c778"
   },
   "outputs": [
    {
     "name": "stdout",
     "output_type": "stream",
     "text": [
      "Downloading data from https://storage.googleapis.com/tensorflow/tf-keras-datasets/imdb_word_index.json\n",
      "1646592/1641221 [==============================] - 0s 0us/step\n",
      "1654784/1641221 [==============================] - 0s 0us/step\n"
     ]
    }
   ],
   "source": [
    "word_index = imdb.get_word_index() #word_index é um mapeamento de dicionário de palavras para um índice inteiro.\n",
    "reverse_word_index = dict(\n",
    " [(value, key) for (key, value) in word_index.items()]) #Reverte, mapeando índices inteiros para palavras\n",
    "decoded_review = \" \".join(\n",
    " [reverse_word_index.get(i - 3, \"?\") for i in train_data[0]]) # Decodifica a revisão. Observe que os índices são compensados por 3porque 0, 1 e 2 são índices reservados para “preenchimento”,\n",
    "                                                              #“início da sequência” e “desconhecido”."
   ]
  },
  {
   "cell_type": "markdown",
   "metadata": {
    "id": "zAHMEzGdMgxI"
   },
   "source": [
    "# Preparando os dados <p>\n",
    "Você não pode alimentar diretamente listas de números inteiros em uma rede neural. Todos eles têm diferentes comprimentos, mas uma rede neural espera processar lotes contíguos de dados. Você tem que  transformar suas listas em tensores. Existem duas maneiras de fazer isso:<p>\n",
    "1) Preencha suas listas para que todas tenham o mesmo tamanho, transforme-as em um número inteiro tensor de forma (amostras, max_length) e inicie seu modelo com uma camada capaz de lidar com esses tensores inteiros.<p>\n",
    "2)Codifique suas listas multi-hot para transformá-las em vetores de 0s e 1s. Isso seria significa, por exemplo, transformar a sequência [8, 5] em um vetor de 10.000 dimensões que seriam todos 0s, exceto os índices 8 e 5, que seriam 1s. Então você poderia usar uma camada Dense, capaz de lidar com dados vetoriais de ponto flutuante, como o primeira camada em seu modelo.\n",
    "Vamos com a última solução (Multi hot-encode) para vetorizar os dados, o que você fará manualmente para clareza máxima"
   ]
  },
  {
   "cell_type": "markdown",
   "metadata": {
    "id": "fHNkGS28NMTY"
   },
   "source": [
    "# Codificando as sequências inteiras via multi-hot enconding"
   ]
  },
  {
   "cell_type": "code",
   "execution_count": 17,
   "metadata": {
    "id": "hm07anS7NDyW"
   },
   "outputs": [],
   "source": [
    "import numpy as np \n",
    "def vectorize_sequences(sequences, dimension=10000): \n",
    " results = np.zeros((len(sequences), dimension)) # Cria uma matriz do  zero (len(sequências), dimensão)\n",
    " for i, sequence in enumerate(sequences):\n",
    "  for j in sequence:\n",
    "   results[i, j] = 1. #Define índices específicos de resultados[i] a 1s\n",
    " return results\n",
    "x_train = vectorize_sequences(train_data) #dados de treinamento vetorizados\n",
    "x_test = vectorize_sequences(test_data) #dados de teste vetorizados"
   ]
  },
  {
   "cell_type": "code",
   "execution_count": 18,
   "metadata": {
    "colab": {
     "base_uri": "https://localhost:8080/"
    },
    "id": "f68_B4HTN5Dr",
    "outputId": "22beb83f-9bba-4ed5-de7a-6ee676195bb8"
   },
   "outputs": [
    {
     "data": {
      "text/plain": [
       "array([0., 1., 1., ..., 0., 0., 0.])"
      ]
     },
     "execution_count": 18,
     "metadata": {},
     "output_type": "execute_result"
    }
   ],
   "source": [
    "x_train[0]"
   ]
  },
  {
   "cell_type": "markdown",
   "metadata": {
    "id": "yjcPTR-9OEBM"
   },
   "source": [
    "#Você também deve vetorizar seus rótulos:"
   ]
  },
  {
   "cell_type": "code",
   "execution_count": 19,
   "metadata": {
    "id": "-TJIIl6cOIPr"
   },
   "outputs": [],
   "source": [
    "y_train = np.asarray(train_labels).astype(\"float32\")\n",
    "y_test = np.asarray(test_labels).astype(\"float32\")"
   ]
  },
  {
   "cell_type": "markdown",
   "metadata": {
    "id": "jCZgY6HmONNX"
   },
   "source": [
    "#Agora os dados estão prontos para serem alimentados em uma rede neural"
   ]
  },
  {
   "cell_type": "markdown",
   "metadata": {
    "id": "SRWhxQjiOVEM"
   },
   "source": [
    "Os dados de entrada são vetores e os rótulos são escalares (1s e 0s): este é uma das mais simplesconfigurações de problemas que você encontrará. Um tipo de modelo que funciona bem em tal problema é uma pilha simples de camadas densamente conectadas (Dense) com ativações relu.\n",
    "  Existem duas decisões principais de arquitetura a serem tomadas sobre essa .\n",
    "camadas (Dense):\n",
    "1) Quantas camadas usar<P>\n",
    "2) Quantas unidades escolher para cada camada <P>\n",
    "No capítulo 5, você aprenderá princípios formais para orientar\n",
    "você ao fazer essas escolhas. Por enquanto,\n",
    "você terá que confiar em mim com a seguinte arquitetura\n",
    "escolhas:\n",
    "* Duas camadas intermediárias com 16 unidades cada\n",
    "* Uma terceira camada que produzirá a previsão escalar sobre o sentimento da revisão atual\n",
    "A Figura 4.1 mostra como é o modelo.
    "![Dense_layers.PNG](data:image/png;base64,iVBORw0KGgoAAAANSUhEUgAAAP4AAAFlCAYAAADLQFVlAAAAAXNSR0IArs4c6QAAAARnQU1BAACxjwv8YQUAAAAJcEhZcwAAEnQAABJ0Ad5mH3gAAEq8SURBVHhe7Z0HWBTX3odvks9EERWxcUUBQRALAvaCBRVrEmON5mosKIIFezc21NgVFTFYUbHFBqImVkBBYwEVFaQKsshiDcIFhL2/b2Z2gAVmYEF2Jez/fZ7fozszOzN7znnnnJmdWf4FgiA0DhKfIDQQEp8gNBASnyA0EBKfIDQQEp8gNBASnyA0EBKfIDQQEp8gNBASnyA0EBKfIDQQEp8gNBASnyA0EBKfIDQQEp8gNBASnyA0EBKfIDQQEp8gNBASnyA0EBKfIDQQEp8gNBASnyA0EBKfIDQQEl8lyJDsNQ6WXX9BQCY/SZWkhOK070Nk8S8JojhIfJUgQ+KOnqisPwEXMvhJKiMD16cao8aQI0jjpxBEcZD4KqGg+Fl4GxeFxBQZ0iUPcP2SH0LiUpDNLcuQ9RZxkRKkZKcg5vZlXPIPxUuFA0bmmzhExr1V6NHTkBTDrO8DOy8Kh0bpo1q/rXgUI0U6vwRBFAWJrxIKiJ8dhfWdq6PTqDGw1jeEuZketCrpotPyQKRys9ejs1YrfP9DMxha2qCzeR3UMP0Re8NY1bPweGVraHVej6icI0XGZTga6GDYMeZA4fEjzGp9ja90GsKi/1rco/E+oQQkvkoQEr8KzGbdRM4pf8YVJxhofYt973PEb43lj/KsTfcZCz2dYTiaWpT47OA+A1ecDGmoT5QIEl8lCIlfFe3XhOUO7zMDZqCxVn/seceLr90PHm/4mQyZgbNhptUTOxIzBcS/hEkNSXyi9JD4KqEU4mtZY+nDvB7/nddQ1KwzGmfSshG+pgO02q9GWM6bPxzDcJ3qJD5Rakh8lVAK8St9BaORXohmzgVkydcxr3U1GIz3ATMbb5mDgG7Nntj4KBWyjET4u/RAra+q8eJn4sZMM1SxWYPQt2n0lR6hFCS+SiiF+FUaoUtvC9SrXQ+1dfVhNeRXBLyWyRf+EIRf+xhA62tt1KheCy1/XgnHNjV58YE3Po4wq/IFvtT9D05Tt08oAYlfDuDEr9oea5ixfNZbCZI+8MIXION1HBLeCffp2alvkPxeHXcLERUBEr8coCg+QagDEr8cIJMcxeTejjgcJ9zTE0RZQ+IThAZC4hOEBkLiE4QGUmHFz3ywBj1slyNYhRe6Ux6fxQWF22xLgixuD0ZaD8dvMWV7QS8z4Bd0az8bf7BfIwrwKfusSL71fLiGGZ2+w85ndHHyn0LFFD/7KTbZNoe991t+ggrIuI6pxjUw5EjpvjiXJV/BplkbcElathf0Mi5MgL7uSPwutFufuM+5FFqPDAn7fkCTQQeQQNcn/xFUSPHfnRkDw9ZLEcJ0SJlvniPy+Zvch2M40qSIYR+DzWmkslQkPg6Cf9ATJKYKtNzsd4j+yx83HsRD/hV7Jt5EHcIo/Wrot/URYqQ5D8Nm4W1sCG743cLTl6mMDjlk8o/lZiD56R08lDDLc4/ixuEts2PsY7fPwsMRni/PIHmfu4NITXyMIP8gPElUXC9PajxCAgJw73kKUkXFF9tn4XXLUiSIfBaHNwoFl/oyGs9iXuCF0HrSLsGxsRUW3aF7Cf4JVEDx3+DQoNqw+iWEu331g8846Ot8j31JOU06G8/Wd0a11svA3hqf+ewonNrWRU2jVmhr2RA19bthvm8CL0AGnuwdhZa1a8HA0hqmulqo13Uprr+KgcePZqj19VfQaWiB/mvvIevDPbiNaIaa7OOx1k3x7+r10HHaCUSxO5EdhjXtq6Nt/56o+9UX+Ep/PM4+yvnuPhOR2wfC1MgIRkaN0MjYBI31a+CrL3Uw9EgKu4M46tQWdWsaoVVbSzSsqY9u831ze9Z3N1fDTr866phZoUVDfVh2agmdmgLiZwvscxHrlr38HaMNtWG1gH90+PkBDKqvjdYLT2J7wfVwG0jHxYkNYTDxIv0mwD+Aiid+mg/G1f83xvrwzS/9Gqaa6KDvLl7m7MdwaVsdNuufITs7Eltsa6Dhj4cRy3VUGQj/7XvUrzcMXswQPDvWDb11/o1Be6PlI4aUm5hjURVtXR4jO+MKnAxzhrtZuLfUClUMRuBwjLzHSw3dij61ddBrezQvfiVUauoI79hkxD2XIkPspp33N/FLe10YDjuI6OxsRG6xRY2GP+KwfAeREf4bvq9fD8O8pMxm7+EXq6poOvkPcGcM6U/g2kcXX+mIDfUV97mYdTOllewzAY2rWWFhwCO496+LGp1WI5gt1nzryeP1ngGo1mQOAuWrI8oxFU58WewmdM33bHsmbs9rhuq2rohl5MgK/gVWOnZwi5NBluiGXlXqYeDGC7h8+bI851egZ3Vd/HQyDa/3DoB2A4d8F8pSkxPxln2t2Pizn2BV2yqwWJzT+7Gk48IEfVTts4sXvwrM596SH0AYBO/WY3rgPYMaQLfzCtz6wLyWJcKtVxXUG7gRF3L27/J5rOhZHbo/nUR2+Bq0L/Acf9rZMdAT6vFZFPe5mHXLeYtLU82hraODaro9sOUJv/ci4mdcm4pG2gPhyQxUiPJNhRM/68FSWGt1wrrch9eZaY+Wo3U1G2yITMetuc1Q+4cDYEf+WY+WodXXNWDcuhM6dVJMd8w8+xrP1naElpX8WkEhFBt/ZgBmmFZBzx2JuefIzNrxYKk1tDqu5cXXQqd1kbkP6RQSXybFRWcL6JiOw8mccXzWIyxr9TVqGLcusH+d0H3mWWTenAUzrV5we6mw1TsL0aK2EuIXs+4c0oPmotn/fQmdAbvzLtyJiJ95ax6aatliG13hK/dUOPGzYzbCRqsFFt1VsJUZ0m/sUgOdVnnC2ezfGHmCfdiV7fR2wq6qESZfUejSs+Nx98pNPHsrw5t936FafXv45rbvbDw7vhyLDj5AhmLjz36GtR2roMnswNweHfiAs2P0UP0HT2Y+K35VdF4fJSJ+Gh5sYs7/6/bEpgcKZ8hMr7zTriqMJl9hTkJyyEb83Su4+ewt81nZ0U0zzLudt9U077HQE72qr7DPxayb40MgFrXSRgO7QehYsz4Gez6X77+I+BkXJ0Kf6fEPvOcnEOWWineOn34e9vq6GHZUcbwpQ7x7H+jo1YeewQScZ69WsWTHYlc/XdTstgKB3COwKQjZ3Ad1a/SAKzNikCXsw/e1a6PX+mBmDtNJJpyBvZkOum9+huzMG5hpVgU2a0LxJvW/eLK+C6rX7Y0Nd9lWL4PUbxE61NDD0MMvixH/I+J/HwtTnZaY5huPlPfv8e7dOybvkZKeidhd/aBbsxtWBL7mRhMpIZvRp24N9HCNYlYSiW29akL/+514zDr4/h7W2tYUP8cvsM9FrhvvcW1Gc2g1GoszSZl4usUWNet9C49o5hPkW0/OQUeGhB09od18Ie4IjZCIckXFEx/v8PtPejCeck2hJ2OapfQgBtWshMbT/fNNz5ZcwvJvG6N61VqoX686tOt3wrQTMfy5ugyJl5ejf6PqqFa3PmpXqw3r8Z4I49r6G/g4mqHKF19C9z+nkZYVC+8FPWGgXQ119HShVcMU3y6/Am4UXpT4TxLg1vNrfPHll/jyiy/wr3/9i89X0J9wARnZElxa/i0aV6+KWvXrobp2fXSadgIxvFxZ0Scw3bYx6ujWQ93ajdBn7HcwqSUifsF9Fl23DK/PT4JZlcaY6Cs/KCDrKbYwB5VavbcjPKvAerh1v8fxEXXReNr1fOVLlE8qoPjMcNd/OsyNHfBHTs+uBFkpEkTFvMQHwd4qE+/ioxH/Lm9ILScbqW+Ske8x+Ez2+/kYSNM4XcqOrBRIomLwUngHkfE6AUlC9yAUQmCfi1m3MAXW8/owhuq3h0sZ3BVIqJ4KKT77nfWuAWbMOanixTZCdWTj2SZbNBlzGjk/GkSUbyqm+AzZ4W4YMmC1Su/VJ3g+XMXcvhNwPJGs/6dQYcUnCEIcEp8gNBASnyA0EBKfIDQQEp8gNBASv5xx//59xMbG8q8IQjWQ+OUMe3t77N69m39FEKqBxC9nkPiEOiDxyxkkPqEOSPxyBolPqAMSv5xB4hPqgMQvZ5D4hDog8csZJD6hDkj8cgaJT6gDEr+cQeIT6oDEL2eQ+IQ6IPHLGSQ+oQ5I/HIGiU+oAxK/nEHiE+qAxC9nkPiEOiDxyxkkPqEOSPxygoeHBzZt2oR27dph2LBh3P/PnTvHzyWIsqVY8Z89ewYvLy+KitOqVSuFv6Ijz4gRIwSXpZRt3rx5w7d2zaFY8bdt24avv/4aI0eOpKgwQuL36dNHcFlK2YUt57/++otv7ZqDUuJPnTqVf0WoirCwsHzS16pVCzIZ/YEKVdO2bVsSXwgSXz3873//g76+fq74w4cP5+cQqoTEF4HEVx+DBw/OFX/jxo38VEKVkPgikPjqY+fOnbniP3z4kJ9KqBISXwQSX31ERkZy0tetW5cb+hOqh8QXgcRXH6zsRkZG+Omnn/gphKoh8UUg8dXLxIkTsX//fv4VoWpIfBHKSvygoCAcOnSIO491c3OjiIS9ZXfVqlWC8yjy7Nq1C0ePHkV4eDjfukoPiS/Cp4iflpbGVVLz5s1hZmaGoUOHYty4cZQiMnr0aMHplLyMGTMGgwYNQr169dCjRw94e3uX+p4HEl+E0or/+vVrtGzZkrv77PTp03jFvKZQyjKSxESuY7Fg2hl730N2djbf+pSHxBehNOLnSD9z5kzBCqNQyjIJEgl69upVKvlJfBFKI37v3r0xzdlZsJIoFFWElb979+5YtmwZ3wqVg8QXoaTiP336lDv3YodhQhVEoagq7AVktu1lZmbyrbF4SHwRSiq+k5MT5s6dK1gxFIqqw/b6Bw8e5Ftj8ZD4IpRU/Pr16+PO3buClUKhqDrs18WDhwzhW2PxkPgilFT8b775BvEvXghWCoWi6pw5cwZdu3blW2PxkPgilFR89l5zaXKyYKVQKKrO+QsX0L59e741Fg+JLwKJT/knhcRXDhJfpUlG1IPbCI0TmleGSY7ETZ9zCIysgOWeGI6798IhEZonEBJfOUh8FUb61AOD247H8Vjh+WUWySmMNTDC+NMS4fmfMQnR0YgTmF4oyQl4FhKEgBvBiExWmJ7kj4Vde8LlljT/8iIh8ZVDLeInBa1Gb2M96GjXQD0DAxgYNoKJiQnMOw3D/MP3lT6a/7OShKtz2qP7qjtIEpxfhmHk2DB6NDb6JwnOl4Zux8gfXRGiKJTKIsGNvfNhP6QnWpnURdV6I3AoQWg5eaQRF7FhfDeY1jdE8zad0Ln7dBx5nn+ZiP3DYf3zMcQqTBMLia8c6uvxJUcxqumP8MxtBIl45PMrhjQ3xbDdoZAWXP6fHslZTLQaCPdwgXlqjjR4JWxsluGOVHh+2SYB1/atx86jf+BW6AH81HSkqPjSiBNwtDKD3YJjuFvU6ZDEGw7WP2BXhMC8AiHxleMzii/Pc9/JaGY1F35JOdPicNNjGvq3NoNRQ33Ub2CKTiNXwzdcvs6koLX43rIFWlhPxK4/d8Cxb2s0N2FGE7omsFvkg0iFdUtDT2LhD61hYmQEw4YNYGLdH4NtGqH7uie5yxS3vdJGcnEqLAe4IUJxms8c2LRsgZY9FuFionzaS38X9Gc+j0XbqTguYaZJg7D2e0u0aGGNib/9ie2OfdG6uQn0dHRhYrcI3lF563sVfQDjrJmyaMHEshcWXyp8t+TLy7/Arum/oa2tBzN2OT6WP6zHLcUDQXIofl/0A1o3NoKRYUM0MLFGvyE2aNR9HR6XdqSQ4IX/iIofjzMTm6HtvMt4UWhewUhwcrwlhh94LjAvf0h85fjs4r9K9MbEJn2xNZJ9LcX97d+ieZcZOBgUKx8FSEJxdmlvmPdYK2+oSc/xLPQIxhprw8huFjwuh3LnkAn3XdHfcADcYvj1vo7FgeHmsFt1DVFcw01G7N2TWGJnoCC+EtvjlitpkvFgdVe0XXATLxWnJz5HZOgOfGc+DidZydlp0nhEPTmCMc0GwSOenZaE2IhQeI0zhraRHWbtvoxQdrrkPrb2N8QAt5i89TFCxEZG4Bmz/NYB5sLn+ElxiPBbhE7t5+NqGLusPBExCflOQWI9h8PcbhWuRsvrTvr8Ln5fYgcDRfGliXgRH4+4QkmARKisihI/gWkPTQYyvbgEYbf+hO+lIDxNED/YRm7ti5bOfwrOUwyJrxyfX3zm/HRuq25Y/ZB5T+IlOLdsA+eTfvDz98+L3ynMaGeN2df5c9jEC3Bq1g+uuZIzkd7F0s5dsCI4Z9vh2NLHEH3XBvDis0lGmI8r3C/xPYey2ytxknBpuiXsNoUXnhe/F4ObKojPJtEHDhY54rNJxPnJzdB3m6LkUtxZ2hk2K4MFTovi4TGoqejFPWWG+mFb+8Cw31r48+KzkYb7YKv7pdxz6zjP8WhuaorGhdIMI3Y+zX1fbooQXxrigi7Ww+DY3wqWNv3Q39YKRo1tsdg3utCybF4cGgnzkYcE5ymGxFeOzy++5DhGN/4O7uyV7zh39NdpAKtu3bl7rvPFdgCW+PJDWU78/tiheF7IiL/MRlF85jQiwA0TeljA2NAEJqbmaGHVAT2GzcTeW7wgym6vxJEicFF72K4VuHZRAvH7u8XlLcOKv8xGZeK/igvAjgk9YGFsCJPGpjBvYYUOPYZh5r5bSBBaXpkUIX7SzQWwqmGNKaee5n6eWF/m9KjjEgQK7OeL/cNgYX+m0PSCIfGV4/Of458cC5OOy/AXW9mSE/jZtD9ci7sgpoz40mAcWbsn79oBM6SOfHKbGcb3hFF/N/k0ZbdXijz3HAHL8acKS8OKbzYaxxTFl5zFhNyhPhsViN95qbyMBeZzpzxH12J37rcCUsRFPcEt76XoacSUM39dIeHiWowdNQqjCmUsVpwR6KmLGupH7cR3LSbiLH+tgwvTCfxsIbS8FDcWdoTd+scFphcOia8cn098RsRH59czvV8TjDoYxjfmeHhPtoClvRceKTaI+BB4b3OBxw3FoX4x4jMy2Zu0wM+et/E8ZxlmCB66exiaDtzFv1Zye6VJxA4MsJqC84rrZSM5hXHGbbDwZs7o5SEOO1qherXvVSb+q/DNsGvElL3ChcG4kHPYddiPfy3BWXsTtBjjiVsKZfoydDeGNmXOw/n3JT38E4c9PeFZKIfgez8h9325KUr85HDsHd4S/bfc5g+OyXh2YjxadllZ+AAlvY+VXTthcVDx3+WT+MqhFvHl3+PXQ7VK2qhrYAijRo1gUL8BTDsOxdxDBb7Hj7+J7WPawsiwBTr16A27rq1g1sgUHYbOgeedRLy8uRI9jfVQvVJV1DZoCvsjCZCGuWGISX3UrFwFuvomGOHB9D6s+MYmaNe9JTN0bYmO3XugsxUz5G8zGjuCFIbwxWwvd7kSJwK/DbaG/SlFedkk4ebmH2Cmz2yjeyc0NTBDnzmLMdSoGuoYWmPqyWtY0dMYetUroWptAzS1P4IXyWHYMdQE9WtWRhVdfZiM8GDWk4zQbYNgwt4XYdAQdapWQnU99v8GMLKcnP9UIjkSZ+fYoIGeCaw7d4KlKTOcbzUATm6K4hvDpF13tDRpjJYdu6OHjRVMTNpgtFtQCe+ziIHHyMbcfhgY1IM2U+fcvRtMvbdwOJ5vWfYawtIBlmjW1pYpdwuYWAzGhusFy4tpP4FL0LmbwAFBICS+cqivxy9hkmJDEeTnj6DQ2PxXxpVOLIID7uBZMtNzRT/Azet+CHoYLdqIP317hfOCOWdt138rHgl8HfYy5iGzTwG4H/0Jo4oSRhJxD/437uJpfOH6iQ0JwF8RzPSkaIQEXsf1oIeIKjhaUUmkiA0NhF/QYzwXFDsWx8e3xbC94QIjncIh8ZWj3IpfIZIcgbMbN8G7It5Dr65IArBrzUHcVaK3Z0PiKweJT6lQIfGVg8SnVKiQ+MpB4lMqVEh85Shz8dmf3nqRIPDVDoWihtBPbylHmYvP/tjmvfv3BSuFQlF12L+sw/55LWUh8UUoqfgODg6Yv2CBYKVQKKpOr169UJK/Nkzii1BS8UNDQ6Gnp4fEly8FK4ZCUVVuMwLXqVMHGRkZfGssHhJfhJKKz8L+BdPZs2cLVg6FooqwHU0vOzssXryYb4XKQeKLUBrxpVIpmjZtinnz5wtWEoVSlmGl79u3L3du//HjR74VKgeJL0JpxGfJkf+7777DOV9fwQqjUD4lL5OSsHffPrRq1apU0rOQ+CKUVnyWlJQUuLq6cj/WwP7c008//QSHSZMwydGRIpJBgwdjJFNOQvMo8kx0cOD+JDb7DZKNjQ2OHz9eqr+Nz0Lii/Ap4ufwv//9D35+fti7dy+2bNmCzZs3U0TC3nzCNmqheRR52M6EfRz40aNHfAsrPSS+CGUhPqE89vb22L17N/+KUDUkvggkvnoh8dULiS8Cia9eSHz1QuKLQOKrFxJfvZD4IpD46oXEVy8kvggkvnoh8dULiS8Cia8e2HJ2cXHhbkYZOHAg9//Tp0/zcwlVQeKLQOKrB/bOM/ZHTBSzYcMGfi6hKkh8EUh89eDm5lZI/AcPHvBzCVVB4otA4quHK1eu5JP+q6++wt9//83PJVQFiS8Cia8e0tPTUbly5VzxO3fuzM8hVAmJLwKJrz7s7OxyxV++fDk/lVAlJL4IJL76WL9+fa74N2/e5KcSqoTEF4HEVx8hISGc9NWqVSvVs+VEySHxRSDx1YdMJuN+M4798RJCPZD4IpD46mXEiBFcmRPqgcQXgcRXL+yPlTx9+pR/RagaEl+ETxU/KysLx44dg62tLfc303V1dVGzZk2KSGrUqAEdHR3BeRR5ateuDWMTEwwdOhT+/v58SysdJL4InyL+gQMHuN9FY7+TZn8Ukf0LO88iIiiUT0pYeDj3G/rr1q2DmZkZLCwsEBQUxLe6kkHii1Ba8d3d3dGwYUNcvXat0K+jUihlmX3793MXRUvzFSiJL0JpxGfPU1np6W/oUdSV30+e5OS/c+cO3wqVg8QXoaTis7eeshVwgzn6ClUQhaKqbHV1Rc+ePfmWqBwkvgglFX8fcy7P/uFCoYqhUFQZSWIi6tati7CwML41Fg+JL0JJxW/Xrh2OHD0qWDEUiqrD/s3G6dOn862xeEh8EUoqPvt1VERkpGClUCiqjteRI+jTpw/fGouHxBehpOJ/+eWXSJJKBSuFQlF1fM+fR8eOHfnWWDwkvgglFZ99yESanCxYKRSKqnP+wgXuz5ApC4kvAon/KUlG5P0gPHouNK8MkxyBgDNnEBBRActd8hS3bj+FRGieQEh85SDxVRjpk10Y1GY8fo8Vnl9mkZzCWAMjjD8tEZ7/GZMQHY04gemFkpyAZyFBCLgRjMhkhelJAVjU1RYrgpQ7fSTxlUMt4icFrUZvYz3oaNdAPQMDGBg2gomJCcw7DcO8Q/eUPpr/s5KEq3Paofvqu0gSnF+GSfLHhtGjsdE/SXC+NHQ7Rv7oihBFoVQWCW7snQ/7IT3RyqQuqtYbgUMJQsvJI424iA3ju8G0viGat+mEzt2n40iBEVLE/uGw+vkoYhWmiYXEVw719fiSoxjV9Ed45jaCRISeW4dhFqYY4hEKacHlVZVkqXq2JTmDCVYD4R4hME/NkQavhI3NMtyRCs8XTzKSSnywSMC1feux8+gfuBV6AD81HSkqvjTiBBytzdFnyUncjxdehovEG5Osf8AuJcqSxFeOzyi+PHHnJ6OZ1RxcT8qZ9hwBuyajr3VjGDTQR319E7QbvhI+YfJ1JgX9igEtzGFuaY+d510xoZc1zE30UKOGEWznn0WEQkNNCj2Oed9awZgZBhs2bIBGlr0xsLMRuq97krtMcdsrbSQXpsBygBsiFKYleM9Cp2bmaN5tAS4kyqe99FuB3s3N0bTVZByTMNOkQVgzoAXMzS0xfud5bJ3QC1bmJtCrUQNGtvNxNlJhv6L3YUxLpizMmTTvjoV/JubN4yO5tAQ9zPRQtaoeTNjl+LT4bh1uKR4IpKE4Nv9bWBobwMiwIRo0skTvgZ1h1H0dHpd2pJDghf+Iih+PMxOaod38K3hRaF7BSHBqvCWG7X8uMC9/SHzl+Oziv0r0xsQmfbElkn0txf3t36J515k4fCeOn/8YPsv7ommPX+UNNek5noUewVhjbRjazcaea0+4hiMJ3oYBhv3hFsOv93Us9g83R+/V1xHNN9y44NP4xc5AQXwltsctV9Ik48Hqrmi74CZeKk5PfI7I0B34znwcTrKSs9Ok8Yh6cgRjmg2CB9frJSE2IhRe44xR1dAOs/dew2O2zBKD4TrAEP3dYvLWxwgRG8k+sRaKrQPMhc/xk+IQ4bcIndrPx9WwvCfcImIS8p2CxB4YDvPeq3Ethq+7+GCc/sUOBoriSxPxIj4ecYWSAIlQWRUlfgLTHpoMZHpxCcJu/QnfS0F4miB+sI3c2hctnf8UnKcYEl85Pr/4zPnp3FbdsPoh857ES3C2aAPnk37w8/fPi98pzGhnjdnX+XPYxAtwatYPrrmSM5HexdLOXbAiOGfb4djSxxB91wYgKrfHSkaYjyvcL/E9h7LbK3GScGm6Jew2hReeF78Xg5sqiM8m0QcOFjnis0nE+cnN0HebouRS3FnaGTYrgwVOVeLhMaip6MU9ZYb6YVv7wLDfWvhH59WdNNwHW90v5Z5bx3mOR3NTUzQulGYYsfNp7vtyU4T40hAXdLEeBsf+VrC06Yf+tlYwamyLxb7RhZZl8+LQSJiPPCQ4TzEkvnJ8fvElxzG68XdwZ698x7mjv04DWHXrju7dC8R2AJb48kNZTvz+2BGnsB5G/GU2iuK/xvMAN0zoYQFjQxOYmDLDW6sO6DFsJvbe4gVRdnsljhSBi9rD9leBaxclEL+/Gz8K4cKIv8xGZeK/igvAjgk9YGFsCJPGpjBvYYUOPYZh5r5bSBBaXpkUIX7SzQWwqmGNKaee5n6eWN+psOywBIEC+/li/zBY2J8pNL1gSHzl+OziPz85FiYdl+EvtrIlJ/CzaT9sDRd4v2KUEV96H4fX/JZ37YAZUkc+uY2zS3vCqL+bfJqy2ytFnnuOgOX4U4WlYcU3HY2jiuJLzmJC7lCfjQrE77xUXsYC89l13/Nag11+OSMcKeKinuCW91L0NGLKOUq+XMLFtRg7ahRGFcpYrDgj0FMXNdSP2onvWkzE2XzlcBw/txBaXoobCzrAbv3jAtMLh8RXjs8nPiPio/Prmd6vCUYdDOMbczx8prSEpb0XHvEXv7jEh8B7mws8bigO9YsRn5HJ3qQZRu8PUvgaKAmPPIbAfOAu/rWS2ytNInZggNUUnFdcLxvJKYwzboMFN3NGLw9xeJIlqlX7XmXivwrfDLtGTNnzArOJCzmHXYf9+NcSnLU3QbPR+xGk8FXay1APDDZnzsP59yWFXsJRLy8cLpSjuBgssO2ixE8Ox97hFui/+TZ/cEzGsxPj0bKrS+EDFHMQX9G1ExYr8V0+ia8cahFf/j1+PVSrpI26BoYwatQIBvUbwLTjUMw9dD//9/jxgXAb2w6NjCzQqUdv2HVtBbNGpugwdA487yTi5c2V6Gmsh+qVqqK2QVPYH0mANMwNQ0zqo2blKtDVN8EID6b3YcU3NkG77hbM0LUlOnbvgc5WzJC/zWjsCFIYwhezvdzlSpwI/DbYGuNPKcrLJgk3N/8AM31mG907oamBGfrMWYyhRtVQx9AaU09ew4qextCrXglVaxugqf0RvEgOw46hJqhfszKq6OrDZIQHs55khG4bBBP2vgiDhqhTtRKq67H/N4CR5eT8pxLJkTg7xwYN9Exg3bkTLE2Z4XyrAXByUxTfGCbtusPCpDFaduyOHjZWMDFpg9FuQSW8zyIGHiMbc/thYFAP2kydc/duMPXewuF4vmXZawhLB1iiWVtbptyZerIYjA3XC5YXcwC6uRiduq0sYsSSFxJfOdTX45cw0uePccvfH0GhsfmvjCudWAQH3MGzZKbhRD/Azet+CHoYLdqIP317hfOCOWdt138rHgh8HfYy5iGzTwG4H/0Jo4oSRhJxD/437uJpfOH6iQ0JwF/sLb9J0QgJvI7rQQ8RVXC0opJIERsaCL+gx3guKHYsjo9ri2F7wwVGOoVD4itHuRW/QiQ5Amc3boK34nfvlJJFEoBdaw7irhK9PRsSXzlIfEqFComvHCQ+pUKFxFcOEp9SoULiK0eZi//1118jQSLytRKFouKcPXsWXbp04Vtj8ZD4IpRUfD09PQSHhAhWCoWi6njs3o0ffviBb43FQ+KLUFLxx44diyVLlghWCoWi6vTt2xceHh58ayweEl+EkoofHByMBg0a0A9uUtQe9i831apVC//973/51lg8JL4IJRWfxcbGhnp9ilrDdjQDvv0Wc+bM4VuhcpD4IpRG/BcvXnA/rbVi5UrBSqJQyjKs9IMGDeJ+Tz8jI4NvhcpB4otQGvFZcuT/ccQIXLt+XbDCKJRPSfKrVzh2/Dj3Z9hLIz0LiS9CacVnefPmDVavXs395Vz2u9WJDg6YOXMmZs2aRRHJzz//jIkTJwrOo8gzY8YMjBs3jutYrKytub/OnJmZybe6kkHii/Ap4ueQnZ0NX19fuLq6wsXFBSuZUwCKcFq1aoWBAwcKzqPIw3Ymbm5uCAoK4ltY6SHxRSgL8Qnlsbe3x+7du/lXhKoh8UUg8dULia9eSHwRSHz1QuKrFxJfBBJfvZD46oXEF4HEVy8kvnoh8UUg8dULia9eSHwRSHz1sGfPHmzZsoW732H48OHc/8+fP8/PJVQFiS8Cia8evv/+e+5HTBSzdu1afi6hKkh8EUh89cCWc0Hx7927x88lVAWJLwKJrx7CwsLySa+rqwuZTMbPJVQFiS8Cia8+unXrliv+woUL+amEKiHxRSDx1Qf7HEOO+NeuXeOnEqqExBeBxFcft2/f5qSvUqVKqR4xJUoOiS8Cia8+2KcYdXR0uGfLCfVA4otA4quXwYMHY+PGjfwrQtWQ+CKQ+OrF3d0dDx484F8RqobEF6EsxPfz88OIESO4QjY3N0eTJk0oImF/VcbMzExwHkWeZs2aoWPHjly7ZL8G/RRIfBE+Rfxz586hefPmXGWxd6H98eefuBkYSKF8UgJu3MA5X1/uF3Xr1q2LHj164PHjx3yrKxkkvgilFf/EiRNcpRxn/hX6oUQKpSwiSUzE+vXrub/g9OjRI771KQ+JL0JpxD916hQnvZ+/v2BlUShlnd179nDyP3nyhG+FykHii1BS8bOyslC/fn1uWC9UQRSKquKyahW++/57viUqB4kvQknFP3bsGPc750IVQ6GoMnHx8dyf0IqNjeVbY/GQ+CKUVHz2TxTvP3BAsGIoFFVnypQpmDdvHt8ai4fEF6Gk4rN/POPWrVuClUKhqDrbtm/HsGHD+NZYPCS+CCUVv3LlytyQS6hSKBRV5/Tp07C1teVbY/GQ+CKUVHz2IRNpcrJgpVAoqs75CxfQoUMHvjUWD4kvAolP+SeFxFcOEl/dSY7CvaBQ4XllGGnEDZw5cwPPkoXnl88k4snt23iSKDRPuZD4ykHiqzXJeLxrMNranxKYV7ZJODUOBkb2OC0Rnv/ZkpyAZ5FxwvNeJyFgSVf0WBmEJMH5xYfEV47PJL4UQat7w1ivOipXrwcDAwMYGhnD2MgU7QfNgeddicB7KkCSrmB2u+5YdVcqPL8M8zJgE8aM2wz/JKH5yXjkOhxDtzyAtNA8FURyE7vn2WOwrTWMa2mh7ohDeCG0HJvIA/jRejSOPBeYp0RIfOX4rD1+wtFRaPqjZ14jSHqMc+uHw6LxEOx6qL5Rg1Sqnm0lnJkAy4HueCYwT71Jxv2VXdB52d2S96zJ0pIfLBKuY+/6nTjyx22EHvgJTUcWIf5rCbwnWWOge4TAvOJD4itH+RKfSzzOT2kOyzl+eJkz7XkA3J36wsrUEA3160PfpB2GrfDBU+78VYrAXweghbk5LO13wtd1AnpZN4XJv2ughpEt5p2NVGioUjw4Ng/fWhkzw2BmXQ0awbL3QHQy6o51TxT2ucjtlTaJzOeyxAC3SIVpEpyd1RnNzJuj24KLkHDTknB9RR80N2+KVpOPI4GZlhT0Kwa0MIe5pT12nnfFhF7WaGryb9SoYQTb+WcRobBfUfvGoiVTFuzjz827L8Ifhc6XE3FpSQ+Y6Wmjql5jbjl5WuC7dbfyHQiSHh7D3G+tYGxgBMOGDdDIsjcGdjZC93VPFNZXsrzw+k8x4rOnKeNhOXw/YgXmFRcSXznKofjMMNV/Llp1W4MHTIOWXJqOlm2m43c/f+6hn5xcPzUD7azn4Bo/lJVcmIxm/bYhWmE9SXeXolOXlbifI0b4VvQ27Ie1AdF5B4PkcHi7uuMSP7RUdnslTtIlTLe0w6bwwvPi9g5B03GnOMlzpkl8HGAxaDficqYlXoBTs35wjclb5pX0LpZ27oIVwQLlHb8bg5qKneMr0+OHY0sfQ/RdG4Co3ANLMsJ8XOF+6Tn/Oh6e45ujsalp4TQbgZ1PC++XMuK/SjiEkU1G4lCCwLxi4nv+PPfXiJSFxBfhc4ifcPxnmHznzh3xn7v3h059S3Tu0gU2BdKl/2L48D0aJ35/NzxXWE/S3WXM+xTEfx0H/x32sG1uhIaGxmjcpAUsO/TA0Jn7cIsXRNntlTjSICxsb4tfQwuXjfLi98eOuLxlWPGX2ahKfKYsAnZgvG1zGDU0hLFpE7Sw6oAew2Zi763SX4NRTvz9GGphjzOluDBJ4itHuRzqnxzXGB2X3eEaZcKJMWjcfxvC8i1TOMqInxR8FGv3+POnEMlIiA3Hg6DTWGxrxAzBo7hllN1eyRMHzxFWGHeqsDSs+Gaj5cP6nGkJZyegmYrF77RUXsaF5zORBuPI2j3w40c4Ukkswh4G4fQSWxgNcOOXk+Di+gkYM3Zs4divwtlohfXxUUb8pJsL0dFuPUJzD9jKh8RXjnIlflJ8KM5vHMac347CwTB+HfE+cLKwxHivUP4cWJ64EB+4uuxGgOJQvxjxE87aw6TFGHjeVvg6KSkUHsOa4nt3ufjKbq80ebZjACynXMi3XjbsOa1xm0W4kTN6eegFR6vqqPa9qsR/jbDNdmjElH1k7rR4BJ/7DYf9+AOT5CzsTVrgZ8/bCmWahNDdw9D0e3f+tRQP/jwMT0/Pwjl0HvcEhurFiy/FPZeu6LSkdF/pkfjK8ZnE57/Oq1cNlbTrwsDQCI0aGUC/gSk6Dp2HQ/cT8y0fd3MHfm5rBMMWndCjtx26tDJDI9MOGDLHE38lJuHGyp7cV4OVqtaGAdPYvRKS8dRtKEzq10TlKrrQNxmB35jehxXf2KQdurc0gUnLjujewwaWJiZoM8oNgQpD+KK3l7dciRPhgcHW9jilKC+bpEBs+sEM+sw2undqCgOzvpizeBiMqtWBofU0nLy2Ej2N9VC9UlXUNmgK+yMJkIa5YYhJfdSsXAW6+iYY4RGNV8mhcB1kwn09atCwDqpWqo567P8NjGA5Of+9A9LIs5hj0wD1TKzRqZMlGhuaoNUAJ7j58c9ZsOIbm6Bd95YwadwSHbv3QGcrptzajMKOoPz1U2xidmNkY3Y/mNTTZupc/hWugWELOBwvMAKSBmKxTTesuFO6rzxJfOX4rD1+ySJFbGgQrvsHITQ2SWC+EokNgf+dCEiZnivqQSCu+QXhQbRYIy6D7RVKAs5NbYf+W4Xu3EtC9ENmnwKCEfUJo4qSJRHP7gUg4G4Y4goNq2MRHHCHu/PvZfQD3Lzuh6CH0YVGK2Wd2BPj0Xb4XoSVYpjPhsRXjn+Q+MmIfXwLfmoTvwy2VygJ8OXEfygwj8RnE3ti3CeJT1/nKcc/SPyKEWmENzZu8hGcR5HA/7c1OHiv9Hc2kvjKQeJTKlRIfOUg8SkVKiS+cpS5+F988QWJT/lsYS/ukfjFU+biV6tWDdExMYKVQqGoOkePHYOdnR3fGouHxBehpOJbWFjA24cuXlE+T3755RdMmjSJb43FQ+KLUFLx2eUH/vCDYKVQKKoMe4rJ3hh07949vjUWD4kvQknFT0lJQc2aNRHy4IFg5VAoqgr79xxKcvMOC4kvQknFZ2nTpg1+XbtWsHIoFFUk+dUr7vf0p02bxrdC5SDxRSiN+FFRUdwf1ti8ZYtgJVEoZRlW+tGjR8PGxgapqal8K1QOEl+E0ojPEh0dzZ1v2dvb4zZTsEIVRqF8ati/k2/Xuze6du1aYulZSHwRSis+y8uXL7Fw4ULUqVMHPXv2xIwZM7BkyRLuyiuFUtosZtrQVGZI37JlS5iamcHV1RX//e9/+VZXMkh8ET5F/BwyMjK4v6K7atUqsH/QcO7cuRSRWFpaom/fvoLzKPIsWLAA69atw6VLl/C///2Pb2Wlg8QXoSzEJ5SHPTXavXs3/4pQNSS+CCS+eiHx1QuJLwKJr15IfPVC4otA4qsXEl+9kPgikPjqhcRXLyS+CCS+eiHx1QuJLwKJr15IfPVC4ovAit+rVy8EBwdT1JCBAwdyN6kIzaOUferVq0fiC3H06FE0btwYVlZWFDVEV1eXe85BaB6l7MO27cePH/OtXXMoVnxCvdBQn1AHJH45g8Qn1AGJX84g8Ql1QOKXM0h8Qh2Q+OUMEp9QByR+OYPEJ9QBiV/OIPEJdUDilzNIfEIdkPjlDBKfUAckfjmDxCfUAYlfziDxCXVA4pczSHxCHZD45QT2p8dHjhwJY2NjtGvXjvv/zp07+bkEUbaQ+OWEUaNG4V//+le+kPiEqiDxywmenp6FxI+MjOTnEkTZQuKXExISEvJJb2ho+Ml/LIIgxCDxyxHNmjXLFX/ChAn8VIIoe0j8csT06dNzxWf/5BhBqAoSvxxx7ty5XPFfvXrFTyWIsofEL0ekpKTg//7v/2Btbc1PIQjVQOKXM7p06QL2LwoThCoh8csZK1aswOXLl/lXBKEaSPxyBvtb7//973/5VwShGkh8gtBASHyC0EBIfILQQEh8gtBASHyC0EBIfILQQEj8MiIt/DSWjuwM07ra+KayDuqbd8OoZSfxNI1fQBlSQnHa9yGy+JefRgpCT/viYdmsjKhgkPhlQHrIJvSq+w3+beOErSeu4Pa9IPj+Nhd9G2mhdrc1+Esp+TNwfaoxagw5gpIcK8TIuD4VxjWG4EhZrIyocJD4n0p2GNbbaKPut78hqkDvmhWzG9/VrYo2Kx5wvXjmmzhExr1V6NHTkBQThcQP7LwoHBqlj2r9tuJRjBTpzFJv4yIhSclGSsxtXL7kj9CXGfz7GDLfIC4yDm8VtpmWFIMo+coQdWgU9Kv1w9ZHMZCm8wsQBA+J/4lkha5A628M4XhZyK5M+E9vjG+aL8SdrCw8XtkaWp3XIyqbn51xGY4GOhh2LAUxHj/CrNbX+EqnISz6r8W9jCis76yFVt//gGaGlrDpbI46NUzx494w7sCR9XglWmt1xvq8leGyowF0hh1jDhQe+NGsFr7+SgcNLfpj7b0CRyRC4yHxP5G030dA55te2Jkk46fkJ8VzILSq/oCDKUWJz47HM3DFyTBvqJ/Nil8J/9fYHj4v2XVnIWbPQNSr9T32JcqKFJ9b2xUnGNJQnxCBxP9E0o4NQ7XK/bHnHT+hANz8KgOwlxmTl1x8LbRe/ijv1CDdB2P1mOWPppL4xCdB4n8imX8tQPNvmmPhHaHhdBZCV7TGN0ZTcC1DSPxLmNSwKPG10c/jDftKTmYgZptpoeeOREHxL01qSOITSkHifypZd7DIojKMxnsjueBo//0VTDX7BsZTryEd2Qhf0wFa7VcjLMfVD8cwXKd6kT2+9VKFr/feeWFIzboYfSYN2eFr0EGrPVbnrQzHhuugOolPKAGJXwa8vTwDLbR1YDV+J65HvkFG5ltE39iLye1qo3KjMTjJnJNzy3kNhW7Nntj4KBWyjET4u/RAra+q8eJn4sZMM1SxWYPQt2nI4s/xvzIaCa/oTECWjOtzW6OaoT3OsacVb70wVLcmem58hFRZBhL9XdCj1leoxoufeWMmzKrYYE3oW6TRtT2iACR+mSCD1H8Tfu6gj8pffImvvvoSX3xTD9ZDlsE3TsG6D0H4tY8BtL7WRo3qtdDy55VwbFOTFx944+PIyPoFvtT9D06nsOJXQaMuvWFRrzbq1daFvtUQrA14zWyN5QOCfu0DA62voV2jOmq1/BkrHdugJi8+szI4mlXBF1/q4j+nqdsn8kPilynZSEuOxdOn0UhKzRmCFybjdRwS3gl3w9mpb5D8nunhuR6/KtqvCUN21ltIkj7wwhcg4zXiEt7lnQ4okp2KN8nvmbEEQeSHxC+vKIrPTyKIsoLEL6/IJDg6uTccD8cJ9/QE8QmQ+AShgZD4BKGBkPgEoYGQ+ApkhKyCbbflCC7ry+DZMfhtuDVG7inN+Xo2Yn4bDuuRexAn9GZZHPaMtMbw32KYRSOxc4gVt51801mUfdb/w1U4dxiAHeF0SbEiQ+LnkP0EG2ybw95H5Kb7TyE7DGvaV0Xn9VGluEKfjbA17VFV8VZfRWTJuLJpFjZckrKP7GFlay1uO/mmoyTP+ssg2T8ITQbtQzxdVaywkPg8786MgWHrpQjhusTinoV/i7ioRKSkJ+FRUDAScm3KxJuoO7h+5SZCJR/yJM8VPxIfEh8iwO8OohUfpOdJSwzFjT/O4/zVO4h5n/PuPPEjPyTiYYAf7kQrPtMv39e4t8wwRVF8hen5n/WXIDE+EjEFHtLPeP0ckQnv5fucdhlOplZYdIfuAKiokPgcb3BoUG1Y/RIiF4q/T17sWfjssDVoX70t+vWog6+++Ar6488h9cM97PixGWrqGMKqtQX0a9RFh2kn5D/OwYlfGUaduqGJvhlaWRlBp1pjDPN4Ir+5RpaEPxbYQE9HHxYdO6G1sQ6+1mmNBddS2Ddz4lc26oRuTfRh1soKRjrV0HiYB56wb1b4vj+f+LnTHxd41t8Fu6aYQLv7FsTkHFtkEvzWTwfN59/mb/ZJx8WJBjCYcIH5H1ERIfFZ0nwwrv6/Mc6Hb+acNOLPwnPiV6qEZk4+iHuTiITX6bi31ApVDEbCK1auTlroVvSpXQM9XFkJWfEroZKZPbwTWdsyEO7WD7Vrfoe9EhmyQpbCWrsVltzhhw7ZsdhhVx01R/zODM3l4leqZAZ770SuR84Id0O/2jXx3V6JEuIz0ws8AJT513w0r9oZ657Jzc+O2QrbGq2xTOEH+l7vGYBqTeYgUP5xiAoGic8gi92ErlqtsfwR3/A5acSfhefEr9IUc2/xVmQ/waq2VdBy8b285Zm+8sIEfWj13sXMZ8XXQhuXJ/KhNEvqKfyntg6GHv3AvcxKS0NmVgok4Xdx/cxuTO+sg8oD9uIdL75WGxc8yXszTv2nNnSGHs0vuJLiIysUK9too90qdn+Y9f/aEdU7r4Pi9byMa1PRSHsgPNlBB1HhIPEZsh4wPa5WJ6zLuXrGSSP+LDwnPrt8JL98ZgBmmFbh5uVdD8vCg6XW0Oq4lhdfG/33vOXnMWT6Y3pjLdi5S5ljxGN4OnaFofY3qK5vjnZ9fsSg1jVRuf+eXPG1mf/nvVv+k15adu6lE59ZZ9SmrqhuvRQP0h9gaSsd9Nz2PN83Dpm356Gpli22JdAVvooIic+QHbMRNlotsOhu/h5f9Fl4VnxmqJz7IxjZz7C2YxU0mR2o8EDMB5wdo4fqP3gy8+U9fuuVj/PW9+YgBunUwxjvNCS490G1On2wKfg9L18qTo+qjcr9djOy8z1+65V4nPdmHBykg3pjvPl9Lan4zCgnYRf66lhh4eHFsNb9Fnv4R4dzyLg4EfpMj3/gPT+BqFCQ+Czp52Gvr8sM4/lWzkkj/ix8IfEZOZ+st0H1ur2x4S67DhmkfovQoYYehh5+yb5Bfo5vMhpHY9j1SXFlVitoG03E+fdM77u+Myo3GIMzr1n5ZHh7ezVsdb/E1z3d8FKWc45vgtFHY5gDC7PuK7PQStsIE88z21JK/ALP+rO7zHymQ4NrQ7+hPuoM9cJrdlouMiTs6Alt7kdC+UlEhYLE53iH33/Sg/GUq0zfyMBJI/4sfGHxGbJi4b2gJwy0q6GOni60apji2+VXGHGZeXyP3+4ne7Stp4s6tbRR3WwItt5+x61PluSL2e3qQEvXCOZmjWDaxQGb5/eCTqMpuJrB9/jtfoJ923rQrVML2tXNMGTrbbzj1q2M+AWe9ee7/fenR0Pv//Qw+nTBbv09jo+oi8bTrsvLg6hwkPg8af7TYW7sgIupzAsFaYp8Fl4I9jv+yBhI00TewawvIf6NgFCZeBcfhdjXRamWhbcJ8XhTShtzn/Xn+eBrj4aNJuFSzvg/h9eHMUS/PVxyLnYSFQ4SP4fsGOwaYIZBBySQKYrPz65IZMffwtljOzDBug7aruDvXcglG+EbbdFkzGlwZx5EhYTEVyD7mTuGf/8rgtMr9rPwWSEb0M/cHB3G7sGTgqOHD1cxv78Dfi9wsY+oWJD4BKGBkPgEoYGQ+AShgZD4BKGBkPgEoYGQ+AShgZD4BKGBkPgEoYGQ+AShgZD4BKGBkPgEoYGQ+AShgZD4BKGBkPgEoYGQ+AShgZD4BKGBkPgEoYGQ+AShgZD4BKGBkPgEoYGQ+AShgZD4BKGBkPgEoYGQ+AShgZD4BKGBkPgEoYGQ+AShgZD4BKGBkPgEoYGQ+AShgZD4BKGBkPgEoYEUI34qQk5sxoYNGwSz0c0Xty9sxvw5czBv40X+PeWYjBj8+dtG+f5v/A2X47P5GUWTEXcV+zYx73H1QfhHfuInInsVCM+N+ctTMRsPBiE74Rr2sMtsPITbr2X8O8sCGV49u42Aa1cQnJBTBtlIuLYHG9ltH7qNMt1cCZFJb+IA97n3I+DlZ9yRz8ZHhHm7cu1g8+nHzKviKWmZFS2+7G9c3+yIiRMnCsZh1j5cPb0Sjsz/HZef4d8kgiwd0ogHCA5LRBo/Sb1kIOqMCybn7L/DAhwpxmJZuhRPr3pi9cxJ8vc4e+BuBj/zE8lO8IGLY15ZFozjqnPIijyBxZOY145rcL4sBZC9xZWNbL06YUdQzgfKQuSJxZjEbnvNeXxO37LjvbGSLRvH5TjzXLmDc8UiA3d2TeXagdOOIOZV8ZS0zJQWf9KiXbh4MxCBgQq5E4EXcY9w+9Yt3H4Yz78pD1nGB/ydmsH0LzJIr27CNLZRLTuN2BLVpQwfU1OQlsW/ZJFl4MPfaUxTVZ6MqNNYOdkBs1esxFwHpoCKFJ/pEQP3YIkzL3xOylB8WWoM7l67iqtXr8J3l1y4iZMWw/2cfNq1uzGFxWc+d1q62KeWIePD3/nLSYzsOJxZXrz4sow0iG6ulPXCtYlidrKoRizLSsPf7z8go5QHJmW2D9lHpKYo0z0xZZ76Nz7k25mPSEtj27wQ2UhPeYe/xQo1Ox0p71PxkSlHcfGF61ll4juu9oWk0KfJxgvftXCeMgXOq334aRmQ3D6B7Stmw4ltzBMnYcqshZg/YwqWHbyNZ/FSRPqslr9nrS9esPuYFoSd06dgytR5OPDgI2Svr2KLM/N6+hac8N6CWY6LcSKS+aTZrxByehuWTGf3yYFZ7y/Y7BWEF8XJmBGJ0yuc4DDHHYEPTmEZW0BFip+N52eWw3HKAmw+5gc/zyVyMctQ/DxkeH1pPTdqmui4Dn8k5xVynvguOHBqF5bPZD6DgxPmrDmC+7lj8Wy8CjmNbUumc+twmDILv2z2QpBIoXx8dBDzJztiEnvwY5d3dILTtG0ISFEQ3+UATu1ajplODnBwmoM1R+5zQ/9PqZfsVyE4vW0JpnNlPwWzftkMr6AXgr1Z4UYsQ0rEJezfsAjObHmw++00E8t2+ODJO2bH0u5h77ypmDLFGau945gSYVcSB+/Vzpi29Dh3elb09pk6uLqFa5PTt5yA95ZZcFx8gpuTn494emQxpk2Zirm/ecNn63z5CNJpHracD0d0wF64zJkCh4mOcP5lF67F57Svj3h55xg2LZwmb0fM9uet80RAXDo/PxvSvw7CZYa8/KYt34e966ZwnzNP/KLrWXU9/i8HcTssHOHh8jyLliJNlo147/xD/eyYM1jOFe4cuJ5/iMjw2zi+xpkpDAdM334Db5n3cFKx71npDe40O+0Gtjmx75mJvcGs+JewnluHM5ydHbie8ETkBzz7fTl3MHGcvxlHzvnAa8McpiAdMX9fMFIKHZRyyEDkqRVwcpgFt5uv8TH2tBLiy/Am/B6evGILNQvRJ5d+XvGZsps0bS6WLZuHqZywk7D4RCTXs6Y/+x3L2bJznI/NR87Bx2sD5jDvcZy/D8EChfIx7CRWL5zNr4eVdAEWLN6L26l54k90mIRpc5dhGSOTA/uaK/+s0tdL+jP8vtyJ2R4zbfMRnPPxwoY5zGiK2ed9wSlMCeSnYCOWvQuC20xmew7TsHQnI+YpD6xkt8/s/9wDD5kaTsP9PbO4fXV08eY6E/mplAPmH3qCj8VuP68OHJyZz8aUzSQR8Z8cmsttZ5ITc/BY7IKls9n1smXEHBCdZ2Hx0vmYxpftdI973LvSnh7BYvbzTJrLdCTe+N3tF+6A4TDXA38xBy7Z2xvYPl3+eZxXuOPQ3rWYzR+Yc8Qvrp5VJn7BOCw4whxJC4ufHrSDPwq64kYqtxJIfFfJC3WBF8KY9ygtPrPMpHmu8A4KQ4L0Jtyc2WWc4XbrA7tiyKR/YC273OSNuCJyNSo94iRWMD3XzG0BeMUskq2U+IqUA/GZg9bue0xhZifAx0VeH85Mo8qQpSDQzZl5zTQYt1vgSkUmxR9r2WUmY+OV19x6CvHxHjzYshQZ6jvM2g355nKuQzjD4x4zfC1VvWQhJdANzux6nd0gX4Q59ftjLfeZJ2+8UuhCYiHxX4Xiqs8pHD95E/HcEDcDd3exn5tpQxsuc+9Pf3hAfgrnuArnJEwPe2ENHB3m4mDof5XYvkIdMAfVea7eCApLZBcsQJ74DgsO4wlTdB8jjvMHZ6a8L79i1pyKW1ydMPu2xY/ZFFNHO6ZxrydvvgZ2gIKM+9g9gxXdEWvOJ+LDjW2Ywm6b23dmAaYOL3J1yIuvRD2rTvwpc7B4GdML8Fmx5TxisgqLL3sdCLc57IdywiLXozh7ah/WzJJ/yAWeD5liKYn4TthwiS1MpoCfemE+fyR1msr2OGymyCuLEWMfc4pQiKwYnGGG+BMdF2H31fsIDg7G/cu7sIBdj8Ns7Dh/DyGRr/iFxSgH4juuhi93npXONCJ5DzN11x1kfHwKr/ls2TIN0WkqXybOmMKVnQNm7XsgX1FBihE/97QuPRA72HqZOBW77iiKX5J6ScNTr/nykQNzmjKV30fnKfJ25TBrD07tW4R58+Zxmb/YE/diCjfij6+e4Nrve7Ft3UosmT8bzkxvzr7fcd0l7oDO7AgOL+Bl8n2MP9Yxp0VzPfEogxmeF7n9fXjwUaEOnDbgErdCIfLEd9x4GW+YxWSvckZB83H4KdsGP+LRgTnyZTZfZ4o1HEcXsdeKmNHJQf4KfXY8zq6Qb3+q+y3GoRXcth1mH8BDboEM/OWucI6vRD2rTHyxc/yC4kP2Hk/PrMOMKXOxYo0Llq9wwdqte3DyehiYgz+DgPipAXAVEp85Yns+kgv98ZEnf1FuJjYcuYg//vgjL39eQUiiwIfNuA23KWzhiIernCIpD+LnXNXPQFA+8R/Bcy7bIJgRzYYjuKhYJn/8iSshQr0WQ3Hi51zVzwgSFr9E9ZKOR558LzlzA45cVJjP5M8rd3H14FIsXrxYnuVeuF9AfJk0ADvYoTkj9Rzm3Pj8jTvw3sz3qjniM/sfcZzf/8XL8Qszypt74BFTYoyIRW4/BInZeXXAHSzkH00ARfGvMqetcvHXcWWSM4IsLP6RhfI6msPsD7fq7Bfw5kduU9wCEXN6We62Q7kFCopffD1/ZvFleHVts/zq/WpvxKYVegMD+x75EW7S4uNgrw2lhzHnQNyQtqD4C+AVJq8F2esr2DiZmcYMO7ffeM/1NsgIh6/7drh5nMDtJIFtZcUi4PgRHDmSl8PbFsslY4amK929cOxaBLPyNwgLuMQVot9jeU+WRzkWX/YaVzZO5l47b7+B9/JCQbivO7a7eeDE7SR2QmE+BmMPP9Tc4vc3P7Ek4pekXrLw+spG+emf83bckO8ks4gv3Le7wePEbRSsuvyNOBMJPi5yMabvwh32epjsHa5tlpdDnvjM+2JOYyn7PnZbDnNw4CFbWUz5Frt9BfG501FuEQFKIT7j0I1tcokdN/D7mn4Pu9lrFkz5u/jE4921TfIL4U7r5aMN2Sv8uU7unXyoX3w9f2bxs/GCrySu8JnzJXb4N2P2PCxavg5uR64i/H0W3jIHB64iHKZi4erVWDzdGVOnMAVRhPjsuVLw/gVcw3SY4QJ3r6PYt24ut62pa3zxXLSy8pNxdxd3vpdXUQwKR+W5nsxRmSn4q1tm5g6ppjK9h/zzOGIKP8150SH5ez+ZTxCfeW9K8H4s4A6aM+DCHMiO7luHuWzZTV0DX7FCyYrAscXyryod56zAxi0HEJCYWSrxlakXWUow9i+QD3dnuLjD6+g+rJvLtqupzLD8ubwXVCB/I+bP15n1TZw0HzvO+ePaic1YwA/VHdf9mSu+Yk/qMGcfQviL5sVvX4XiM6Q+OohF7DKT5mHryYvw3sVf3JvjjiDmfEGW9CfWcyNTpkdfvRue7i6Y7ST/HPKLe8XX82cf6me99OeGZQ6T8r4yygvzwXbfw4fUcHivm8kVzkTHWVj7+0V4sg2xKPFZMhIQeIj5wOxBgn3vJGcs2eGNx9wVE+VQTvxk5hxR/rnFwp4blg2fIj5LBhICDzENmf0aid23SXBesgPej98xaxbjI15c3Y75k3PKcSlOxWSUTnwWJeolIyEQh5gDwhS+TUxyXoId3o/lF7sKULARy1LD4L1hjryMmNOTea4XceuUvIPJPV3kkCGROUg4MfU4e18Icr4sYyl6+6oVn62jFzcOYE3ONwBMBzLLZS+uxeTcK5CB+KtuWMiV3yRMX30UvgfkdSEXX75MUfVctuKXFOaI67ua+XAO85lzQKbYmSHUx4x0pL5PxJ39C+UfZBN/ZZMZWqa+luLVB9FSFkWW8TeSE1/idWrJ31thkWXg7+REvHydyjQ95WDL8dXLRCS9LdnNUGIUXy8yZPydjMSXr1HyqstG2lspkt4I7yt7I01a+js8PLwEjswwf/8DRe1z+JTtlwGydLyTJkL6Lo35NIXJTnsLafLfRd+cVIp6FqJsxZclMj0le+OBA6bOX42tOz2wZ+9u7Nq+FgunMkczp0XYd6+onoggSkM6Arfn9KYTMdnFB3FlcSSrwJSt+Ayy95G4cfYgftu2AWtcVsJl1Rqs27gD+45fxF8xhW/WIIhPJwNPvLdi/boN2LbfFw9ekfXFUebiEwRR/iHxCUIDIfEJQgMh8QlCAyHxCUIDIfEJQgMh8QlCAyHxCUIDIfEJQgMh8QlCAyHxCUIDIfEJQgMh8QlCAyHxCUIDIfEJQgMh8QlCAyHxCUIDIfEJQgMh8QlCAyHxCUIDIfEJQgMh8QlC4wD+H1ND2BUwf7l1AAAAAElFTkSuQmCC)"
   ]
  },
  {
   "cell_type": "markdown",
   "metadata": {
    "id": "iXs2CCWbRobI"
   },
   "source": [
    "#Definição do modelo"
   ]
  },
  {
   "cell_type": "code",
   "execution_count": 20,
   "metadata": {
    "id": "K52hjAhdRroI"
   },
   "outputs": [],
   "source": [
    "from tensorflow import keras \n",
    "from tensorflow.keras import layers\n",
    "\n",
    "model = keras.Sequential([\n",
    " layers.Dense(16, activation=\"relu\"),\n",
    " layers.Dense(16, activation=\"relu\"),\n",
    " layers.Dense(1, activation=\"sigmoid\")\n",
    "])"
   ]
  },
  {
   "cell_type": "markdown",
   "metadata": {
    "id": "fuPNJliWR_xW"
   },
   "source": [
    "O primeiro argumento sendo passado para cada camada Dense é o número de unidades na camada: a dimensionalidade do espaço de representação da camada.  Cada uma dessas camadas Densas com uma ativação relu implementa a seguinte cadeia de operações de tensor:\n",
    "output = relu(dot(input, W) + b)\n",
    "Ter 16 unidades significa que a matriz de peso W terá forma (input_dimension, 16):<p>\n",
    "o produto escalar com W projetará os dados de entrada em um espaço de representação de 16 dimensões (e então você adicionará o vetor de polarização b e aplicará a operação relu). Você pode entender intuitivamente a dimensionalidade do seu espaço de representação como “como\n",
    "muita liberdade você está permitindo que o modelo tenha ao aprender representações internas.” Ter mais unidades (um espaço de representação de dimensão superior) permite que seu\n",
    "modelo possa aprender representações mais complexas, mas torna o modelo mais caro computacionalmente e pode levar ao aprendizado de padrões indesejados (padrões que melhoram o desempenho nos dados de treinamento, mas não nos dados de teste).\n",
    " As camadas intermediárias utilizam relu como função de ativação, e a camada final usa uma ativação sigmóide para gerar uma probabilidade (uma pontuação entre 0 e 1 indicando a probabilidade de a amostra ter o alvo “1”: a probabilidade de a revisão ser positiva). Um relu (unidade linear retificada) é uma função destinada a zerar valores negativos, enquanto um sigmóide “esmaga” valores arbitrários no intervalo [0, 1].\n",
    "Finalmente, você precisa escolher uma função de perda e um otimizador. Porque você está enfrentando um problema de classificação binária e a saída do seu modelo é uma probabilidade (você termina seu modelo com uma camada de unidade única com ativação sigmóide), é melhor usar a perda/loss (binary_crossentropy). Não é a única opção viável: por exemplo, você pode usar (mean_squared_error). Mas a entropia cruzada geralmente é a melhor escolha quando você está trabalhando com modelos que geram probabilidades. A entropia cruzada é uma grandeza do campo da teoria da informação que mede a distância entre distribuições de probabilidade ou, neste caso, entre a distribuição de verdade e suas previsões.\n",
    "  Quanto à escolha do otimizador, vamos com o rmsprop, que geralmente é uma boa\n",
    "escolha padrão para praticamente qualquer problema."
   ]
  },
  {
   "cell_type": "markdown",
   "metadata": {
    "id": "VavgemXeTYxs"
   },
   "source": [
    "Aqui está a etapa em que configuramos o modelo com o otimizador rmsprop e a função de perda binary_crossentropy. Observe que também monitoraremos a precisão durante o treinamento."
   ]
  },
  {
   "cell_type": "markdown",
   "metadata": {
    "id": "EeHc3nprTdG_"
   },
   "source": [
    "# Compilando o modelo"
   ]
  },
  {
   "cell_type": "code",
   "execution_count": 21,
   "metadata": {
    "id": "-uaPEvjUTe9g"
   },
   "outputs": [],
   "source": [
    "model.compile(optimizer=\"rmsprop\",\n",
    " loss=\"binary_crossentropy\",\n",
    " metrics=[\"accuracy\"])"
   ]
  },
  {
   "cell_type": "markdown",
   "metadata": {
    "id": "SEnWBSUCTmzG"
   },
   "source": [
    "# Validando a abordagem:<p>\n",
    "\n",
    "Um modelo de aprendizado profundo nunca deve ser avaliado em seus\n",
    "dados de treinamento - é prática padrão usar um conjunto de validação para monitorar a precisão do modelo durante o treinamento. Aqui, criaremos um conjunto de validação separando 10.000 amostras dos dados de treinamento originais."
   ]
  },
  {
   "cell_type": "markdown",
   "metadata": {
    "id": "i4MNRuMLT5S7"
   },
   "source": [
    "#Reservando um conjunto para validação"
   ]
  },
  {
   "cell_type": "code",
   "execution_count": 22,
   "metadata": {
    "id": "LbC_Q3bMTYcc"
   },
   "outputs": [],
   "source": [
    "x_val = x_train[:10000] # treino\n",
    "partial_x_train = x_train[10000:] # validação\n",
    "y_val = y_train[:10000] # treino\n",
    "partial_y_train = y_train[10000:] # Validação"
   ]
  },
  {
   "cell_type": "markdown",
   "metadata": {
    "id": "7vbsbKZ0UHx8"
   },
   "source": [
    "Vamos agora treinar o modelo por 20 épocas (20 iterações sobre todas as amostras nos dados de treinamento) em minilotes de 512 amostras. Ao mesmo tempo, monitoraremos perdas e\n",
    "precisão nas 10.000 amostras que separamos. Fazemos isso passando os dados de validação como o argumento validation_data"
   ]
  },
  {
   "cell_type": "markdown",
   "metadata": {
    "id": "QujRoGc4UK34"
   },
   "source": [
    "# Treinando o modelo"
   ]
  },
  {
   "cell_type": "code",
   "execution_count": 23,
   "metadata": {
    "colab": {
     "base_uri": "https://localhost:8080/"
    },
    "id": "gpa9LKfwUI0k",
    "outputId": "43828341-d922-4865-e362-4480360622b3"
   },
   "outputs": [
    {
     "name": "stdout",
     "output_type": "stream",
     "text": [
      "Epoch 1/20\n",
      "30/30 [==============================] - 2s 26ms/step - loss: 0.5252 - accuracy: 0.7873 - val_loss: 0.4023 - val_accuracy: 0.8678\n",
      "Epoch 2/20\n",
      "30/30 [==============================] - 1s 18ms/step - loss: 0.3217 - accuracy: 0.8991 - val_loss: 0.3138 - val_accuracy: 0.8860\n",
      "Epoch 3/20\n",
      "30/30 [==============================] - 1s 18ms/step - loss: 0.2362 - accuracy: 0.9221 - val_loss: 0.3039 - val_accuracy: 0.8777\n",
      "Epoch 4/20\n",
      "30/30 [==============================] - 1s 18ms/step - loss: 0.1858 - accuracy: 0.9397 - val_loss: 0.2876 - val_accuracy: 0.8819\n",
      "Epoch 5/20\n",
      "30/30 [==============================] - 1s 18ms/step - loss: 0.1532 - accuracy: 0.9497 - val_loss: 0.2756 - val_accuracy: 0.8902\n",
      "Epoch 6/20\n",
      "30/30 [==============================] - 1s 18ms/step - loss: 0.1253 - accuracy: 0.9616 - val_loss: 0.3167 - val_accuracy: 0.8806\n",
      "Epoch 7/20\n",
      "30/30 [==============================] - 1s 19ms/step - loss: 0.1043 - accuracy: 0.9679 - val_loss: 0.3033 - val_accuracy: 0.8826\n",
      "Epoch 8/20\n",
      "30/30 [==============================] - 1s 18ms/step - loss: 0.0884 - accuracy: 0.9747 - val_loss: 0.3182 - val_accuracy: 0.8824\n",
      "Epoch 9/20\n",
      "30/30 [==============================] - 1s 18ms/step - loss: 0.0721 - accuracy: 0.9812 - val_loss: 0.3501 - val_accuracy: 0.8770\n",
      "Epoch 10/20\n",
      "30/30 [==============================] - 1s 18ms/step - loss: 0.0603 - accuracy: 0.9859 - val_loss: 0.3700 - val_accuracy: 0.8759\n",
      "Epoch 11/20\n",
      "30/30 [==============================] - 1s 18ms/step - loss: 0.0518 - accuracy: 0.9869 - val_loss: 0.3869 - val_accuracy: 0.8795\n",
      "Epoch 12/20\n",
      "30/30 [==============================] - 1s 18ms/step - loss: 0.0403 - accuracy: 0.9913 - val_loss: 0.4180 - val_accuracy: 0.8732\n",
      "Epoch 13/20\n",
      "30/30 [==============================] - 1s 18ms/step - loss: 0.0322 - accuracy: 0.9934 - val_loss: 0.4526 - val_accuracy: 0.8705\n",
      "Epoch 14/20\n",
      "30/30 [==============================] - 1s 18ms/step - loss: 0.0260 - accuracy: 0.9959 - val_loss: 0.4822 - val_accuracy: 0.8730\n",
      "Epoch 15/20\n",
      "30/30 [==============================] - 1s 19ms/step - loss: 0.0213 - accuracy: 0.9961 - val_loss: 0.5156 - val_accuracy: 0.8726\n",
      "Epoch 16/20\n",
      "30/30 [==============================] - 1s 18ms/step - loss: 0.0143 - accuracy: 0.9990 - val_loss: 0.5549 - val_accuracy: 0.8730\n",
      "Epoch 17/20\n",
      "30/30 [==============================] - 1s 17ms/step - loss: 0.0130 - accuracy: 0.9986 - val_loss: 0.5735 - val_accuracy: 0.8703\n",
      "Epoch 18/20\n",
      "30/30 [==============================] - 1s 18ms/step - loss: 0.0092 - accuracy: 0.9992 - val_loss: 0.6089 - val_accuracy: 0.8693\n",
      "Epoch 19/20\n",
      "30/30 [==============================] - 1s 18ms/step - loss: 0.0078 - accuracy: 0.9990 - val_loss: 0.6486 - val_accuracy: 0.8687\n",
      "Epoch 20/20\n",
      "30/30 [==============================] - 1s 18ms/step - loss: 0.0040 - accuracy: 0.9999 - val_loss: 0.6861 - val_accuracy: 0.8683\n"
     ]
    }
   ],
   "source": [
    "history = model.fit(partial_x_train,\n",
    " partial_y_train,\n",
    " epochs=20,\n",
    " batch_size=512,\n",
    " validation_data=(x_val, y_val))"
   ]
  },
  {
   "cell_type": "markdown",
   "metadata": {
    "id": "M39_tbOeUhUZ"
   },
   "source": [
    "Na CPU, isso levará menos de 2 segundos por época — o treinamento termina em 20 segundos. No final de cada época, há uma pequena pausa enquanto o modelo calcula sua perda e precisão nas 10.000 amostras dos dados de validação.<p>\n",
    "Observe que a chamada para model.fit() retorna um objeto History. Esse objeto tem um histórico, que é um dicionário contendo dados sobre tudo o que aconteceu durante o treinamento. Vamos ver:"
   ]
  },
  {
   "cell_type": "code",
   "execution_count": 24,
   "metadata": {
    "colab": {
     "base_uri": "https://localhost:8080/"
    },
    "id": "aBahcQiNUzTx",
    "outputId": "9191d8b1-6a89-4a48-b8f6-96701dfef293"
   },
   "outputs": [
    {
     "data": {
      "text/plain": [
       "dict_keys(['loss', 'accuracy', 'val_loss', 'val_accuracy'])"
      ]
     },
     "execution_count": 24,
     "metadata": {},
     "output_type": "execute_result"
    }
   ],
   "source": [
    "history_dict = history.history\n",
    "history_dict.keys()"
   ]
  },
  {
   "cell_type": "markdown",
   "metadata": {
    "id": "Vj-Tu2kEVGqj"
   },
   "source": [
    "O dicionário contém quatro entradas: uma por métrica que estava sendo monitorada durante o treinamento e durante a validação. Nas duas listagens a seguir, vamos usar o Matplotlib para plotar a perda de treinamento e validação lado a lado, bem como a precisão do treinamento e validação. Observe que seus próprios resultados podem variar um pouco devido a uma inicialização aleatória diferente do seu modelo."
   ]
  },
  {
   "cell_type": "markdown",
   "metadata": {
    "id": "ljDxq0O6VJ4D"
   },
   "source": [
    "#Plotando  a perda (loss) treino e validação"
   ]
  },
  {
   "cell_type": "code",
   "execution_count": 25,
   "metadata": {
    "colab": {
     "base_uri": "https://localhost:8080/",
     "height": 295
    },
    "id": "oiDQizueVNBs",
    "outputId": "ce5c1677-899a-416f-bd67-b4557857cdcd"
   },
   "outputs": [
    {
     "data": {
      "image/png": "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\n",
      "text/plain": [
       "<Figure size 432x288 with 1 Axes>"
      ]
     },
     "metadata": {
      "needs_background": "light"
     },
     "output_type": "display_data"
    }
   ],
   "source": [
    "import matplotlib.pyplot as plt\n",
    "history_dict = history.history\n",
    "loss_values = history_dict[\"loss\"]\n",
    "val_loss_values = history_dict[\"val_loss\"]\n",
    "epochs = range(1, len(loss_values) + 1)\n",
    "plt.plot(epochs, loss_values, \"blue\", label=\"Training loss\")\n",
    "plt.plot(epochs, val_loss_values, \"orange\", label=\"Validation loss\") \n",
    "plt.title(\"Training and validation loss\")\n",
    "plt.xlabel(\"Epochs\")\n",
    "plt.ylabel(\"Loss\")\n",
    "plt.legend()\n",
    "plt.show()"
   ]
  },
  {
   "cell_type": "markdown",
   "metadata": {
    "id": "fF8OQ4NbVinJ"
   },
   "source": [
    "#Plotando a acurácia do treino e validação"
   ]
  },
  {
   "cell_type": "code",
   "execution_count": 27,
   "metadata": {
    "colab": {
     "base_uri": "https://localhost:8080/",
     "height": 295
    },
    "id": "XsjTXR8sVZPC",
    "outputId": "c3136a11-3a34-43b1-ac0d-f06c3468702f"
   },
   "outputs": [
    {
     "data": {
      "image/png": "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\n",
      "text/plain": [
       "<Figure size 432x288 with 1 Axes>"
      ]
     },
     "metadata": {
      "needs_background": "light"
     },
     "output_type": "display_data"
    }
   ],
   "source": [
    "plt.clf() #Limpa a figura\n",
    "acc = history_dict[\"accuracy\"]\n",
    "val_acc = history_dict[\"val_accuracy\"]\n",
    "plt.plot(epochs, acc, \"blue\", label=\"Training acc\")\n",
    "plt.plot(epochs, val_acc, \"orange\", label=\"Validation acc\")\n",
    "plt.title(\"Training and validation accuracy\")\n",
    "plt.xlabel(\"Epochs\")\n",
    "plt.ylabel(\"Accuracy\")\n",
    "plt.legend()\n",
    "plt.show()"
   ]
  },
  {
   "cell_type": "markdown",
   "metadata": {
    "id": "P4__5drgV8_g"
   },
   "source": [
    "Como você pode ver, a perda do treinamento diminui a cada época e a precisão do treinamento aumenta a cada época. Isso é o que você esperaria ao executar a otimização de descida de gradiente - a quantidade que você está tentando minimizar deve ser menor a cada iteração. Mas esse não é o caso da perda da validação e precisão: aparece um pico na quarta/quinta época. Este é um exemplo do que alertamos anteriormente: um modelo que funciona melhor nos dados de treinamento não é necessariamente um modelo que se sairá melhor nos dados que nunca viu antes. Em termos precisos, o que você está vendo é overfitting: após a quarta época, você está otimizando demais os dados de treinamento e\n",
    "acabam aprendendo representações que são específicas para os dados de treinamento e não generalizam para dados fora do conjunto de treinamento.<p>\n",
    " Nesse caso, para evitar overfitting, você pode parar de treinar após quatro épocas. Em geral, você pode usar uma variedade de técnicas para mitigar o overfitting (Dropout / data augmentation por exemplo).\n",
    " Vamos treinar um novo modelo do zero por quatro épocas e depois avaliá-lo nos dados de teste"
   ]
  },
  {
   "cell_type": "markdown",
   "metadata": {
    "id": "77RnzqS7WdfH"
   },
   "source": [
    "# Retreinando o modelo do zero:"
   ]
  },
  {
   "cell_type": "code",
   "execution_count": 28,
   "metadata": {
    "colab": {
     "base_uri": "https://localhost:8080/"
    },
    "id": "sFggG7pXWgoI",
    "outputId": "97580607-09b0-49ae-cc92-ec80f7043651"
   },
   "outputs": [
    {
     "name": "stdout",
     "output_type": "stream",
     "text": [
      "Epoch 1/4\n",
      "49/49 [==============================] - 1s 18ms/step - loss: 0.4551 - accuracy: 0.8224\n",
      "Epoch 2/4\n",
      "49/49 [==============================] - 1s 21ms/step - loss: 0.2615 - accuracy: 0.9096\n",
      "Epoch 3/4\n",
      "49/49 [==============================] - 1s 16ms/step - loss: 0.2013 - accuracy: 0.9286\n",
      "Epoch 4/4\n",
      "49/49 [==============================] - 1s 15ms/step - loss: 0.1676 - accuracy: 0.9405\n",
      "782/782 [==============================] - 1s 1ms/step - loss: 0.2928 - accuracy: 0.8847\n"
     ]
    }
   ],
   "source": [
    "# Cria o modelo do zero\n",
    "model = keras.Sequential([\n",
    " layers.Dense(16, activation=\"relu\"),\n",
    " layers.Dense(16, activation=\"relu\"),\n",
    " layers.Dense(1, activation=\"sigmoid\")\n",
    "])\n",
    "\n",
    "#Compila o novo modelo\n",
    "model.compile(optimizer=\"rmsprop\",\n",
    " loss=\"binary_crossentropy\",\n",
    " metrics=[\"accuracy\"])\n",
    "model.fit(x_train, y_train, epochs=4, batch_size=512)\n",
    "results = model.evaluate(x_test, y_test)"
   ]
  },
  {
   "cell_type": "code",
   "execution_count": 29,
   "metadata": {
    "colab": {
     "base_uri": "https://localhost:8080/"
    },
    "id": "89veSjbgWvXg",
    "outputId": "f7e40e85-511a-44fb-e154-000ef87694c9"
   },
   "outputs": [
    {
     "data": {
      "text/plain": [
       "[0.29283851385116577, 0.8847200274467468]"
      ]
     },
     "execution_count": 29,
     "metadata": {},
     "output_type": "execute_result"
    }
   ],
   "source": [
    "#Resultados\n",
    "results # O primeiro número é a loss do teste e o segundo é a acurácia do teste"
   ]
  },
  {
   "cell_type": "markdown",
   "metadata": {
    "id": "wzMVbmhVXHbK"
   },
   "source": [
    "# Essa abordagem bastante ingênua atinge uma precisão de 88%. Com abordagens de última geração, você deve conseguir chegar perto de 95%."
   ]
  },
  {
   "cell_type": "markdown",
   "metadata": {
    "id": "5eLBK3nVXg-0"
   },
   "source": [
    "# Referência:\n",
    "Livro: Deep Learning with Python -0 Manning Publications(2021)<p>\n",
    "Autor: François Chollet<p>\n",
    "Capítulo 4: Getting started with neural networks: Classification and regression"
   ]
  }
 ],
 "metadata": {
  "colab": {
   "provenance": []
  },
  "kernelspec": {
   "display_name": "Python 3",
   "language": "python",
   "name": "python3"
  },
  "language_info": {
   "codemirror_mode": {
    "name": "ipython",
    "version": 3
   },
   "file_extension": ".py",
   "mimetype": "text/x-python",
   "name": "python",
   "nbconvert_exporter": "python",
   "pygments_lexer": "ipython3",
   "version": "3.8.3"
  }
 },
 "nbformat": 4,
 "nbformat_minor": 1
}
